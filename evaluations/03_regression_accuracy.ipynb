{
 "cells": [
  {
   "cell_type": "code",
   "execution_count": 1,
   "id": "7834d198-d148-4505-8149-88c69e0e01c5",
   "metadata": {},
   "outputs": [],
   "source": [
    "# Common accuracy class\n",
    "class Accuracy:\n",
    "    # Calculates an accuracy\n",
    "    # given predictions and ground truth values\n",
    "    def calculate(self, predictions, y):\n",
    "        # Get comparison results\n",
    "        comparisons = self.compare(predictions, y)\n",
    "        \n",
    "        # Calculate batch accuracy\n",
    "        accuracy = np.mean(comparisons)\n",
    "        \n",
    "        # Update accumulated values (FIXED PART)\n",
    "        self.accumulated_sum += np.sum(comparisons)  # Sum of correct predictions\n",
    "        self.accumulated_count += len(comparisons)   # Total samples in batch\n",
    "        \n",
    "        return accuracy\n",
    "\n",
    "    # Calculates accumulated accuracy\n",
    "    def calculate_accumulated(self):\n",
    "        if self.accumulated_count == 0:\n",
    "            return 0.0 \n",
    "        return self.accumulated_sum / self.accumulated_count\n",
    "\n",
    "    # Reset variables for accumulated accuracy\n",
    "    def new_pass(self):\n",
    "        self.accumulated_sum = 0\n",
    "        self.accumulated_count = 0"
   ]
  },
  {
   "cell_type": "code",
   "execution_count": 2,
   "id": "2891fbe6-41fc-4fc7-ac0b-556771fc6f4b",
   "metadata": {},
   "outputs": [],
   "source": [
    "# Accuracy calculation for regression model\n",
    "class Accuracy_Regression(Accuracy):\n",
    "    def __init__(self):\n",
    "        # Create precision property\n",
    "        self.precision = None\n",
    "\n",
    "    # Calculate precision value\n",
    "    # baed on passed in ground truth\n",
    "    def init(self, y, reinit=False):\n",
    "        if self.precision is None or reinit:\n",
    "            self.precision = np.std(y) / 250\n",
    "\n",
    "    # Compare predictions to the ground truth values\n",
    "    def compare(self, predictions, y):\n",
    "        return np.absolute(predictions - y) < self.precision"
   ]
  },
  {
   "cell_type": "code",
   "execution_count": null,
   "id": "81e157ad-e2f0-403b-94d4-3398b6618736",
   "metadata": {},
   "outputs": [],
   "source": []
  }
 ],
 "metadata": {
  "kernelspec": {
   "display_name": "Python 3 (ipykernel)",
   "language": "python",
   "name": "python3"
  },
  "language_info": {
   "codemirror_mode": {
    "name": "ipython",
    "version": 3
   },
   "file_extension": ".py",
   "mimetype": "text/x-python",
   "name": "python",
   "nbconvert_exporter": "python",
   "pygments_lexer": "ipython3",
   "version": "3.10.16"
  }
 },
 "nbformat": 4,
 "nbformat_minor": 5
}
