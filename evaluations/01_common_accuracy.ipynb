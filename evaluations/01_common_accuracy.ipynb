{
 "cells": [
  {
   "cell_type": "code",
   "execution_count": 2,
   "id": "b8aae1c0-bdf3-4373-89e4-e525f4e824e7",
   "metadata": {},
   "outputs": [],
   "source": [
    "# Common accuracy class\n",
    "class Accuracy:\n",
    "    # Calculates an accuracy\n",
    "    # given predictions and ground truth values\n",
    "    def calculate(self, predictions, y):\n",
    "        # Get comparison results\n",
    "        comparisons = self.compare(predictions, y)\n",
    "        \n",
    "        # Calculate batch accuracy\n",
    "        accuracy = np.mean(comparisons)\n",
    "        \n",
    "        # Update accumulated values (FIXED PART)\n",
    "        self.accumulated_sum += np.sum(comparisons)  # Sum of correct predictions\n",
    "        self.accumulated_count += len(comparisons)   # Total samples in batch\n",
    "        \n",
    "        return accuracy\n",
    "\n",
    "    # Calculates accumulated accuracy\n",
    "    def calculate_accumulated(self):\n",
    "        if self.accumulated_count == 0:\n",
    "            return 0.0 \n",
    "        return self.accumulated_sum / self.accumulated_count\n",
    "\n",
    "    # Reset variables for accumulated accuracy\n",
    "    def new_pass(self):\n",
    "        self.accumulated_sum = 0\n",
    "        self.accumulated_count = 0"
   ]
  },
  {
   "cell_type": "code",
   "execution_count": null,
   "id": "d70f64e3-e674-4d03-b67d-c44864e6b1be",
   "metadata": {},
   "outputs": [],
   "source": []
  }
 ],
 "metadata": {
  "kernelspec": {
   "display_name": "Python 3 (ipykernel)",
   "language": "python",
   "name": "python3"
  },
  "language_info": {
   "codemirror_mode": {
    "name": "ipython",
    "version": 3
   },
   "file_extension": ".py",
   "mimetype": "text/x-python",
   "name": "python",
   "nbconvert_exporter": "python",
   "pygments_lexer": "ipython3",
   "version": "3.10.16"
  }
 },
 "nbformat": 4,
 "nbformat_minor": 5
}
