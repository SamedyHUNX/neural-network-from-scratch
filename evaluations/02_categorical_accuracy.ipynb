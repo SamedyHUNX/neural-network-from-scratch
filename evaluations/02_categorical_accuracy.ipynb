{
 "cells": [
  {
   "cell_type": "code",
   "execution_count": 1,
   "id": "9c7d67de-08fa-4f12-964e-64111fac03dd",
   "metadata": {},
   "outputs": [],
   "source": [
    "# Common accuracy class\n",
    "class Accuracy:\n",
    "    # Calculates an accuracy\n",
    "    # given predictions and ground truth values\n",
    "    def calculate(self, predictions, y):\n",
    "        # Get comparison results\n",
    "        comparisons = self.compare(predictions, y)\n",
    "        \n",
    "        # Calculate batch accuracy\n",
    "        accuracy = np.mean(comparisons)\n",
    "        \n",
    "        # Update accumulated values (FIXED PART)\n",
    "        self.accumulated_sum += np.sum(comparisons)  # Sum of correct predictions\n",
    "        self.accumulated_count += len(comparisons)   # Total samples in batch\n",
    "        \n",
    "        return accuracy\n",
    "\n",
    "    # Calculates accumulated accuracy\n",
    "    def calculate_accumulated(self):\n",
    "        if self.accumulated_count == 0:\n",
    "            return 0.0 \n",
    "        return self.accumulated_sum / self.accumulated_count\n",
    "\n",
    "    # Reset variables for accumulated accuracy\n",
    "    def new_pass(self):\n",
    "        self.accumulated_sum = 0\n",
    "        self.accumulated_count = 0"
   ]
  },
  {
   "cell_type": "code",
   "execution_count": 2,
   "id": "bf59346c-b01e-469a-895b-b0eb61e4dc74",
   "metadata": {},
   "outputs": [],
   "source": [
    "# Accuracy calculation for classification model\n",
    "class Accuracy_Categorical(Accuracy):\n",
    "    # No initialization is needed\n",
    "    def init(self, y):\n",
    "        pass\n",
    "    # Compares predictions to the ground truth values\n",
    "    def compare(self, predictions, y):\n",
    "        if len(y.shape) == 2:\n",
    "            y = np.argmax(y, axis=1)\n",
    "        return predictions == y"
   ]
  },
  {
   "cell_type": "code",
   "execution_count": null,
   "id": "8edcf1c8-afc4-4539-a96a-e0753b7707f7",
   "metadata": {},
   "outputs": [],
   "source": []
  }
 ],
 "metadata": {
  "kernelspec": {
   "display_name": "Python 3 (ipykernel)",
   "language": "python",
   "name": "python3"
  },
  "language_info": {
   "codemirror_mode": {
    "name": "ipython",
    "version": 3
   },
   "file_extension": ".py",
   "mimetype": "text/x-python",
   "name": "python",
   "nbconvert_exporter": "python",
   "pygments_lexer": "ipython3",
   "version": "3.10.16"
  }
 },
 "nbformat": 4,
 "nbformat_minor": 5
}
